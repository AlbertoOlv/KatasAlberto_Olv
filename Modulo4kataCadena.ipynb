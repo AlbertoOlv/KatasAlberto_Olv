{
 "cells": [
  {
   "cell_type": "markdown",
   "metadata": {},
   "source": [
    "## Ejercicio 1 Transformar Cadenas"
   ]
  },
  {
   "cell_type": "code",
   "execution_count": null,
   "metadata": {},
   "outputs": [],
   "source": [
    "text=\"\"\"interesting facts about the moon. The moon is Earth's only satellite. There are several inte\n",
    "On average, the Moon moves 4 cm away from the Earth every year. This yearly drift in not significat end.\"\"\"\n",
    "\n",
    "text .split()"
   ]
  },
  {
   "cell_type": "code",
   "execution_count": null,
   "metadata": {},
   "outputs": [],
   "source": [
    "text1=\"\"\"interesting facts about the moon. The moon is Earth's only satellite. There are several inte\n",
    "On average, the Moon moves 4 cm away from the Earth every year. This yearly drift in not significat end.\"\"\"\n",
    "\n",
    "\n",
    "busca=['This','end']\n",
    "\n",
    "for sentence in text1:\n",
    "    for busca in busca:\n",
    "        if busca in sentence:\n",
    "            print(sentence.replace)\n",
    "            break\n"
   ]
  },
  {
   "cell_type": "code",
   "execution_count": null,
   "metadata": {},
   "outputs": [],
   "source": [
    "for sentence in text1:\n",
    "    for busca in busca:\n",
    "        if busca in sentence:\n",
    "            print(sentence.replace)\n",
    "            break"
   ]
  },
  {
   "cell_type": "markdown",
   "metadata": {},
   "source": [
    "## EJERCICIO 2"
   ]
  },
  {
   "cell_type": "code",
   "execution_count": 24,
   "metadata": {},
   "outputs": [
    {
     "name": "stdout",
     "output_type": "stream",
     "text": [
      "Datos De La Gravedad Sobre Genimedes\n",
      "--------------------------------------------------------------------------------\n",
      "nombre del planeta: Marte\n",
      "Gravedad en Genimedes: 1.4300000000000002 m/s2\n",
      "    \n"
     ]
    }
   ],
   "source": [
    "nombre=\"Genimedes\"\n",
    "gravity= 0.00143\n",
    "planet= \"Marte\"\n",
    "\n",
    "title = f'Datos de la gravedad sobre {nombre}'\n",
    "print(title.title())\n",
    "\n",
    "hechos = f\"\"\"{'-'*80}\n",
    "nombre del planeta: {planet}\n",
    "Gravedad en {nombre}: {gravity * 1000} m/s2\n",
    "    \"\"\"\n",
    "\n",
    "template = f\"\"\"{title.title()}\n",
    "{hechos}\n",
    "\"\"\"\n",
    "print(hechos)"
   ]
  }
 ],
 "metadata": {
  "interpreter": {
   "hash": "4cb22c05fd7b6ce8f7446fa6a5e3c33491a218a2218c5fbef87a09a783a19026"
  },
  "kernelspec": {
   "display_name": "Python 3.9.10 64-bit (windows store)",
   "language": "python",
   "name": "python3"
  },
  "language_info": {
   "codemirror_mode": {
    "name": "ipython",
    "version": 3
   },
   "file_extension": ".py",
   "mimetype": "text/x-python",
   "name": "python",
   "nbconvert_exporter": "python",
   "pygments_lexer": "ipython3",
   "version": "3.9.10"
  },
  "orig_nbformat": 4
 },
 "nbformat": 4,
 "nbformat_minor": 2
}
