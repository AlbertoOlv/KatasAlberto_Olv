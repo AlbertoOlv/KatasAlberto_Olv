{
 "cells": [
  {
   "cell_type": "markdown",
   "metadata": {},
   "source": [
    "##  EJERCICIO 1 hasteroride"
   ]
  },
  {
   "cell_type": "code",
   "execution_count": 2,
   "metadata": {},
   "outputs": [
    {
     "name": "stdout",
     "output_type": "stream",
     "text": [
      "¡ALERTA!, un asteroide se accerca a velocidades peligrosas\n"
     ]
    }
   ],
   "source": [
    "asteroide = 40\n",
    "if asteroide > 25:\n",
    "    print(\"¡ALERTA!, un asteroide se accerca a velocidades peligrosas\")\n",
    "else:\n",
    "    print(\"No pasa Nada\")\n"
   ]
  },
  {
   "cell_type": "markdown",
   "metadata": {},
   "source": [
    "## EJERCICIO 2 Rayo de luz"
   ]
  },
  {
   "cell_type": "code",
   "execution_count": 3,
   "metadata": {},
   "outputs": [
    {
     "name": "stdout",
     "output_type": "stream",
     "text": [
      "Look up Hay una luz magica en el cielo\n"
     ]
    }
   ],
   "source": [
    "asteroide = 100\n",
    "if asteroide>80:\n",
    "    print('Look up Hay una luz magica en el cielo')\n",
    "elif asteroide == 80:\n",
    "    print(\"Look up hay una luz en el cielo\")\n",
    "else:\n",
    "    print(\"NAda que ver\")"
   ]
  },
  {
   "cell_type": "markdown",
   "metadata": {},
   "source": [
    "## EJERCICIO 3 Asteroide/Velocidad"
   ]
  },
  {
   "cell_type": "code",
   "execution_count": 12,
   "metadata": {},
   "outputs": [
    {
     "name": "stdout",
     "output_type": "stream",
     "text": [
      "Alerta un asteroide se acerca a la Tierra\n"
     ]
    }
   ],
   "source": [
    "VelAsteroide = 30\n",
    "TamAsteroide = 40\n",
    "if VelAsteroide > 25 and TamAsteroide > 25:\n",
    "    print(\"Alerta un asteroide se acerca a la Tierra\")\n",
    "elif TamAsteroide >=20:\n",
    "    print(\"hay una luz en el cielo\")\n",
    "elif TamAsteroide<25:\n",
    "    print(\"Nada que ver aqui\")\n",
    "else:\n",
    "    print(\"NAda que ver aca\") \n"
   ]
  }
 ],
 "metadata": {
  "interpreter": {
   "hash": "4cb22c05fd7b6ce8f7446fa6a5e3c33491a218a2218c5fbef87a09a783a19026"
  },
  "kernelspec": {
   "display_name": "Python 3.9.10 64-bit (windows store)",
   "language": "python",
   "name": "python3"
  },
  "language_info": {
   "codemirror_mode": {
    "name": "ipython",
    "version": 3
   },
   "file_extension": ".py",
   "mimetype": "text/x-python",
   "name": "python",
   "nbconvert_exporter": "python",
   "pygments_lexer": "ipython3",
   "version": "3.9.10"
  },
  "orig_nbformat": 4
 },
 "nbformat": 4,
 "nbformat_minor": 2
}
