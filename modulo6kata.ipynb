{
 "cells": [
  {
   "cell_type": "markdown",
   "metadata": {},
   "source": [
    "# Ejercicio 1. Listas"
   ]
  },
  {
   "cell_type": "code",
   "execution_count": 1,
   "metadata": {},
   "outputs": [
    {
     "name": "stdout",
     "output_type": "stream",
     "text": [
      "Los planetas son:  5\n"
     ]
    }
   ],
   "source": [
    "planetas =['Namekkusei','Reach','Genesis','Sanghelios','Gran caridad']\n",
    "print(\"Los planetas son: \", len(planetas))"
   ]
  },
  {
   "cell_type": "markdown",
   "metadata": {},
   "source": [
    "# Ejercicio 2. Listas"
   ]
  },
  {
   "cell_type": "code",
   "execution_count": 6,
   "metadata": {},
   "outputs": [
    {
     "name": "stdout",
     "output_type": "stream",
     "text": [
      "Muestra los planetas mas cercas al sol:Namekkusei\n",
      "Namekkusei\n",
      "Muestra el planeta mas lejos del sol: Namekkusei\n",
      "['Reach', 'Genesis', 'Sanghelios', 'Gran caridad']\n"
     ]
    }
   ],
   "source": [
    "user_planet = input(\"Ingresa el nombre de un planeta\")\n",
    "\n",
    "planeta_index = planetas.index(user_planet)\n",
    "\n",
    "\n",
    "print(\"Muestra los planetas mas cercas al sol:\" + user_planet)\n",
    "print(planetas[planeta_index])\n",
    "\n",
    "print(\"Muestra el planeta mas lejos del sol: \" + user_planet)\n",
    "print(planetas[planeta_index + 1: ])"
   ]
  }
 ],
 "metadata": {
  "interpreter": {
   "hash": "69eb92836b941e979072a76c7fcfffe5419cca933cedd02cfafbdfca1a93358c"
  },
  "kernelspec": {
   "display_name": "Python 3.9.10 64-bit",
   "language": "python",
   "name": "python3"
  },
  "language_info": {
   "codemirror_mode": {
    "name": "ipython",
    "version": 3
   },
   "file_extension": ".py",
   "mimetype": "text/x-python",
   "name": "python",
   "nbconvert_exporter": "python",
   "pygments_lexer": "ipython3",
   "version": "3.9.10"
  },
  "orig_nbformat": 4
 },
 "nbformat": 4,
 "nbformat_minor": 2
}
