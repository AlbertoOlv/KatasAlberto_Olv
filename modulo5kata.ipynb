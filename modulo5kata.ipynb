{
 "cells": [
  {
   "cell_type": "markdown",
   "metadata": {},
   "source": [
    "## Ejercicio 1"
   ]
  },
  {
   "cell_type": "code",
   "execution_count": 7,
   "metadata": {},
   "outputs": [
    {
     "name": "stdout",
     "output_type": "stream",
     "text": [
      "63260\n",
      "39284.46\n"
     ]
    }
   ],
   "source": [
    "Primer_planeta = 14562\n",
    "Segundo_planeta = 77822\n",
    "\n",
    "distancia_KM = Segundo_planeta - Primer_planeta\n",
    "print(distancia_KM)\n",
    "\n",
    "distancia_Mi = distancia_KM * 0.621\n",
    "print(distancia_Mi)"
   ]
  },
  {
   "cell_type": "markdown",
   "metadata": {},
   "source": [
    "## Ejercicio 2.Entrada de datos por teclado"
   ]
  },
  {
   "cell_type": "code",
   "execution_count": 9,
   "metadata": {},
   "outputs": [
    {
     "name": "stdout",
     "output_type": "stream",
     "text": [
      "8\n",
      "4.968\n"
     ]
    }
   ],
   "source": [
    "PriPlaneta = input(\"Introduzca  la distancia del sol para el Primer planeta\")\n",
    "SegPlaneta = input(\"Introduzca la distancia desde el sol para el Segundo planeta en KM\")\n",
    "\n",
    "PriPlaneta = int(PriPlaneta)\n",
    "SegPlaneta = int(SegPlaneta)\n",
    "\n",
    "distanciaKM = SegPlaneta - PriPlaneta\n",
    "print(distanciaKM)\n",
    "\n",
    "#Convertir de KM a Millas\n",
    "distanciaMi = distanciaKM * 0.621\n",
    "print(abs(distanciaMi))\n",
    "\n",
    "\n"
   ]
  }
 ],
 "metadata": {
  "interpreter": {
   "hash": "69eb92836b941e979072a76c7fcfffe5419cca933cedd02cfafbdfca1a93358c"
  },
  "kernelspec": {
   "display_name": "Python 3.9.10 64-bit",
   "language": "python",
   "name": "python3"
  },
  "language_info": {
   "codemirror_mode": {
    "name": "ipython",
    "version": 3
   },
   "file_extension": ".py",
   "mimetype": "text/x-python",
   "name": "python",
   "nbconvert_exporter": "python",
   "pygments_lexer": "ipython3",
   "version": "3.9.10"
  },
  "orig_nbformat": 4
 },
 "nbformat": 4,
 "nbformat_minor": 2
}
